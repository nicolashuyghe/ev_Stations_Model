{
 "cells": [
  {
   "cell_type": "code",
   "execution_count": 14,
   "id": "proper-norwegian",
   "metadata": {},
   "outputs": [],
   "source": [
    "import os\n",
    "import joblib\n",
    "import pandas as pd\n",
    "from ev_Stations_Model.features import combine_event_feat\n",
    "from ev_Stations_Model.predict import predict"
   ]
  },
  {
   "cell_type": "code",
   "execution_count": 4,
   "id": "satellite-cleveland",
   "metadata": {},
   "outputs": [],
   "source": [
    "model = joblib.load('../model.joblib')"
   ]
  },
  {
   "cell_type": "code",
   "execution_count": 6,
   "id": "electoral-blocking",
   "metadata": {},
   "outputs": [],
   "source": [
    "station_id = 1\n",
    "year = 2020\n",
    "month = 11\n",
    "day = 8\n",
    "hour = 8\n",
    "minute = 45"
   ]
  },
  {
   "cell_type": "code",
   "execution_count": 7,
   "id": "incredible-drink",
   "metadata": {},
   "outputs": [],
   "source": [
    "params = {\n",
    "        's_id':int(station_id),\n",
    "        'year':int(year),\n",
    "        'month':int(month),\n",
    "        'day':int(day),\n",
    "        'hour':int(hour),\n",
    "        'minute':int(minute)\n",
    "    }"
   ]
  },
  {
   "cell_type": "code",
   "execution_count": 10,
   "id": "taken-accreditation",
   "metadata": {},
   "outputs": [],
   "source": [
    "df_pred_fea = pd.DataFrame.from_dict([params])"
   ]
  },
  {
   "cell_type": "code",
   "execution_count": 11,
   "id": "velvet-shell",
   "metadata": {},
   "outputs": [
    {
     "data": {
      "text/html": [
       "<div>\n",
       "<style scoped>\n",
       "    .dataframe tbody tr th:only-of-type {\n",
       "        vertical-align: middle;\n",
       "    }\n",
       "\n",
       "    .dataframe tbody tr th {\n",
       "        vertical-align: top;\n",
       "    }\n",
       "\n",
       "    .dataframe thead th {\n",
       "        text-align: right;\n",
       "    }\n",
       "</style>\n",
       "<table border=\"1\" class=\"dataframe\">\n",
       "  <thead>\n",
       "    <tr style=\"text-align: right;\">\n",
       "      <th></th>\n",
       "      <th>s_id</th>\n",
       "      <th>year</th>\n",
       "      <th>month</th>\n",
       "      <th>day</th>\n",
       "      <th>hour</th>\n",
       "      <th>minute</th>\n",
       "    </tr>\n",
       "  </thead>\n",
       "  <tbody>\n",
       "    <tr>\n",
       "      <th>0</th>\n",
       "      <td>1</td>\n",
       "      <td>2020</td>\n",
       "      <td>11</td>\n",
       "      <td>8</td>\n",
       "      <td>8</td>\n",
       "      <td>45</td>\n",
       "    </tr>\n",
       "  </tbody>\n",
       "</table>\n",
       "</div>"
      ],
      "text/plain": [
       "   s_id  year  month  day  hour  minute\n",
       "0     1  2020     11    8     8      45"
      ]
     },
     "execution_count": 11,
     "metadata": {},
     "output_type": "execute_result"
    }
   ],
   "source": [
    "df_pred_fea"
   ]
  },
  {
   "cell_type": "code",
   "execution_count": 12,
   "id": "single-lewis",
   "metadata": {},
   "outputs": [],
   "source": [
    "df_pred_fea['timestamp'] = pd.to_datetime(df_pred_fea[['year', 'month', 'day', 'hour', 'minute']])\n",
    "df_pred_fea['weekday'] = pd.to_datetime(df_pred_fea['timestamp']).dt.weekday"
   ]
  },
  {
   "cell_type": "code",
   "execution_count": 13,
   "id": "driving-shareware",
   "metadata": {},
   "outputs": [
    {
     "data": {
      "text/html": [
       "<div>\n",
       "<style scoped>\n",
       "    .dataframe tbody tr th:only-of-type {\n",
       "        vertical-align: middle;\n",
       "    }\n",
       "\n",
       "    .dataframe tbody tr th {\n",
       "        vertical-align: top;\n",
       "    }\n",
       "\n",
       "    .dataframe thead th {\n",
       "        text-align: right;\n",
       "    }\n",
       "</style>\n",
       "<table border=\"1\" class=\"dataframe\">\n",
       "  <thead>\n",
       "    <tr style=\"text-align: right;\">\n",
       "      <th></th>\n",
       "      <th>s_id</th>\n",
       "      <th>year</th>\n",
       "      <th>month</th>\n",
       "      <th>day</th>\n",
       "      <th>hour</th>\n",
       "      <th>minute</th>\n",
       "      <th>timestamp</th>\n",
       "      <th>weekday</th>\n",
       "    </tr>\n",
       "  </thead>\n",
       "  <tbody>\n",
       "    <tr>\n",
       "      <th>0</th>\n",
       "      <td>1</td>\n",
       "      <td>2020</td>\n",
       "      <td>11</td>\n",
       "      <td>8</td>\n",
       "      <td>8</td>\n",
       "      <td>45</td>\n",
       "      <td>2020-11-08 08:45:00</td>\n",
       "      <td>6</td>\n",
       "    </tr>\n",
       "  </tbody>\n",
       "</table>\n",
       "</div>"
      ],
      "text/plain": [
       "   s_id  year  month  day  hour  minute           timestamp  weekday\n",
       "0     1  2020     11    8     8      45 2020-11-08 08:45:00        6"
      ]
     },
     "execution_count": 13,
     "metadata": {},
     "output_type": "execute_result"
    }
   ],
   "source": [
    "df_pred_fea"
   ]
  },
  {
   "cell_type": "code",
   "execution_count": 15,
   "id": "united-carry",
   "metadata": {},
   "outputs": [],
   "source": [
    "df_pred_fea_augmented = combine_event_feat(df_pred_fea)"
   ]
  },
  {
   "cell_type": "code",
   "execution_count": 16,
   "id": "short-outdoors",
   "metadata": {},
   "outputs": [
    {
     "data": {
      "text/html": [
       "<div>\n",
       "<style scoped>\n",
       "    .dataframe tbody tr th:only-of-type {\n",
       "        vertical-align: middle;\n",
       "    }\n",
       "\n",
       "    .dataframe tbody tr th {\n",
       "        vertical-align: top;\n",
       "    }\n",
       "\n",
       "    .dataframe thead th {\n",
       "        text-align: right;\n",
       "    }\n",
       "</style>\n",
       "<table border=\"1\" class=\"dataframe\">\n",
       "  <thead>\n",
       "    <tr style=\"text-align: right;\">\n",
       "      <th></th>\n",
       "      <th>s_id</th>\n",
       "      <th>year</th>\n",
       "      <th>month</th>\n",
       "      <th>day</th>\n",
       "      <th>hour</th>\n",
       "      <th>minute</th>\n",
       "      <th>weekday</th>\n",
       "      <th>lockdown</th>\n",
       "      <th>car_free</th>\n",
       "      <th>saints_holidays</th>\n",
       "      <th>christmas_holidays</th>\n",
       "      <th>winter_holidays</th>\n",
       "      <th>easter_holidays</th>\n",
       "      <th>summer_holidays</th>\n",
       "    </tr>\n",
       "  </thead>\n",
       "  <tbody>\n",
       "    <tr>\n",
       "      <th>0</th>\n",
       "      <td>1</td>\n",
       "      <td>2020</td>\n",
       "      <td>11</td>\n",
       "      <td>8</td>\n",
       "      <td>8</td>\n",
       "      <td>45</td>\n",
       "      <td>6</td>\n",
       "      <td>1</td>\n",
       "      <td>0</td>\n",
       "      <td>0</td>\n",
       "      <td>0</td>\n",
       "      <td>0</td>\n",
       "      <td>0</td>\n",
       "      <td>0</td>\n",
       "    </tr>\n",
       "  </tbody>\n",
       "</table>\n",
       "</div>"
      ],
      "text/plain": [
       "   s_id  year  month  day  hour  minute  weekday  lockdown  car_free  \\\n",
       "0     1  2020     11    8     8      45        6         1         0   \n",
       "\n",
       "   saints_holidays  christmas_holidays  winter_holidays  easter_holidays  \\\n",
       "0                0                   0                0                0   \n",
       "\n",
       "   summer_holidays  \n",
       "0                0  "
      ]
     },
     "execution_count": 16,
     "metadata": {},
     "output_type": "execute_result"
    }
   ],
   "source": [
    "df_pred_fea_augmented"
   ]
  },
  {
   "cell_type": "code",
   "execution_count": 19,
   "id": "material-struggle",
   "metadata": {},
   "outputs": [],
   "source": [
    "idx_cols = ['s_id', 'year', 'month', 'day', 'hour', 'minute']\n",
    "y_pred = predict(df_pred_fea_augmented, model=model, target_col=\"value\", idx_cols=idx_cols, integer_output=True)"
   ]
  },
  {
   "cell_type": "code",
   "execution_count": 22,
   "id": "closed-wyoming",
   "metadata": {},
   "outputs": [
    {
     "data": {
      "text/plain": [
       "3"
      ]
     },
     "execution_count": 22,
     "metadata": {},
     "output_type": "execute_result"
    }
   ],
   "source": [
    "y_pred['value'][0]"
   ]
  },
  {
   "cell_type": "code",
   "execution_count": null,
   "id": "lightweight-turkish",
   "metadata": {},
   "outputs": [],
   "source": []
  }
 ],
 "metadata": {
  "kernelspec": {
   "display_name": "Python 3",
   "language": "python",
   "name": "python3"
  },
  "language_info": {
   "codemirror_mode": {
    "name": "ipython",
    "version": 3
   },
   "file_extension": ".py",
   "mimetype": "text/x-python",
   "name": "python",
   "nbconvert_exporter": "python",
   "pygments_lexer": "ipython3",
   "version": "3.8.6"
  },
  "toc": {
   "base_numbering": 1,
   "nav_menu": {},
   "number_sections": true,
   "sideBar": true,
   "skip_h1_title": false,
   "title_cell": "Table of Contents",
   "title_sidebar": "Contents",
   "toc_cell": false,
   "toc_position": {},
   "toc_section_display": true,
   "toc_window_display": false
  }
 },
 "nbformat": 4,
 "nbformat_minor": 5
}
